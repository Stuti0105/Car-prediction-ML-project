{
  "nbformat": 4,
  "nbformat_minor": 0,
  "metadata": {
    "colab": {
      "provenance": [],
      "authorship_tag": "ABX9TyPjG/wO50p2ihCUv1xUrXtJ",
      "include_colab_link": true
    },
    "kernelspec": {
      "name": "python3",
      "display_name": "Python 3"
    },
    "language_info": {
      "name": "python"
    }
  },
  "cells": [
    {
      "cell_type": "markdown",
      "metadata": {
        "id": "view-in-github",
        "colab_type": "text"
      },
      "source": [
        "<a href=\"https://colab.research.google.com/github/Stuti0105/Car-prediction-ML-project/blob/main/CNS2.ipynb\" target=\"_parent\"><img src=\"https://colab.research.google.com/assets/colab-badge.svg\" alt=\"Open In Colab\"/></a>"
      ]
    },
    {
      "cell_type": "code",
      "execution_count": null,
      "metadata": {
        "colab": {
          "base_uri": "https://localhost:8080/"
        },
        "id": "vo255prMQVdX",
        "outputId": "27ee0b0e-aab0-4616-830e-e8ef72a58e58"
      },
      "outputs": [
        {
          "output_type": "stream",
          "name": "stdout",
          "text": [
            "Encrypted Message: CTA ACQOEICUANRPORPYI  EHIU FSCRN OMNCTOYGHSTNE UGMII\n",
            "Decrypted Message: CRYPTOGRAPHY IS A TECHNIQUE OF SECURING COMMUNICATION\n"
          ]
        }
      ],
      "source": [
        "def encrypt_rail_fence(text, depth):\n",
        "    rail = [['\\n' for i in range(len(text))] for i in range(depth)]\n",
        "    direction_down = False\n",
        "    row, col = 0, 0\n",
        "    for char in text:\n",
        "        if row == 0 or row == depth - 1:\n",
        "            direction_down = not direction_down\n",
        "        rail[row][col] = char\n",
        "        col += 1\n",
        "        row = row + 1 if direction_down else row - 1\n",
        "    cipher = []\n",
        "    for i in range(depth):\n",
        "        for j in range(len(text)):\n",
        "            if rail[i][j] != '\\n':\n",
        "                cipher.append(rail[i][j])\n",
        "    return \"\".join(cipher)\n",
        "def decrypt_rail_fence(cipher, depth)\n",
        "    rail = [['\\n' for i in range(len(cipher))] for i in range(depth)]\n",
        "    direction_down = False\n",
        "    row, col = 0, 0\n",
        "    for i in range(len(cipher)):\n",
        "        if row == 0 or row == depth - 1:\n",
        "            direction_down = not direction_down\n",
        "        rail[row][col] = '*'\n",
        "        col += 1\n",
        "        row = row + 1 if direction_down else row - 1\n",
        "    index = 0\n",
        "    for i in range(depth):\n",
        "        for j in range(len(cipher)):\n",
        "            if rail[i][j] == '*' and index < len(cipher):\n",
        "                rail[i][j] = cipher[index]\n",
        "                index += 1\n",
        "    result = []\n",
        "    direction_down = False\n",
        "    row, col = 0, 0\n",
        "    for i in range(len(cipher)):\n",
        "        if row == 0 or row == depth - 1:\n",
        "            direction_down = not direction_down\n",
        "        if rail[row][col] != '*':\n",
        "            result.append(rail[row][col])\n",
        "            col += 1\n",
        "        row = row + 1 if direction_down else row - 1\n",
        "    return \"\".join(result)\n",
        "message = \"CRYPTOGRAPHY IS A TECHNIQUE OF SECURING COMMUNICATION\"\n",
        "depth = 3\n",
        "cipher_text = encrypt_rail_fence(message, depth)\n",
        "print(f\"Encrypted Message: {cipher_text}\")\n",
        "decrypted_text = decrypt_rail_fence(cipher_text, depth)\n",
        "print(f\"Decrypted Message: {decrypted_text}\")\n"
      ]
    },
    {
      "cell_type": "code",
      "source": [],
      "metadata": {
        "id": "HH6vxvv2Gf4q"
      },
      "execution_count": null,
      "outputs": []
    },
    {
      "cell_type": "code",
      "source": [
        "def encrypt_rail_fence(text, depth):\n",
        "    rail = [['\\n' for i in range(len(text))] for i in range(depth)]\n",
        "    direction_down = False\n",
        "    row, col = 0, 0\n",
        "\n",
        "    for char in text:\n",
        "        if row == 0 or row == depth - 1:\n",
        "            direction_down = not direction_down\n",
        "        rail[row][col] = char\n",
        "        col += 1\n",
        "        row = row + 1 if direction_down else row - 1\n",
        "\n",
        "    cipher = []\n",
        "    for i in range(depth):\n",
        "        for j in range(len(text)):\n",
        "            if rail[i][j] != '\\n':\n",
        "                cipher.append(rail[i][j])\n",
        "    return \"\".join(cipher)\n",
        "\n",
        "def decrypt_rail_fence(cipher, depth):\n",
        "    rail = [['\\n' for _ in range(len(cipher))] for _ in range(depth)]\n",
        "    direction_down = False\n",
        "    row, col = 0, 0\n",
        "\n",
        "    for i in range(len(cipher)):\n",
        "        if row == 0 or row == depth - 1:\n",
        "            direction_down = not direction_down\n",
        "        rail[row][col] = '*'\n",
        "        col += 1\n",
        "        row = row + 1 if direction_down else row - 1\n",
        "\n",
        "    index = 0\n",
        "    for i in range(depth):\n",
        "        for j in range(len(cipher)):\n",
        "            if rail[i][j] == '*' and index < len(cipher):\n",
        "                rail[i][j] = cipher[index]\n",
        "                index += 1\n",
        "\n",
        "    result = []\n",
        "    direction_down = False\n",
        "    row, col = 0, 0\n",
        "    for i in range(len(cipher)):\n",
        "        if row == 0 or row == depth - 1:\n",
        "            direction_down = not direction_down\n",
        "        if rail[row][col] != '*':\n",
        "            result.append(rail[row][col])\n",
        "            col += 1\n",
        "        row = row + 1 if direction_down else row - 1\n",
        "\n",
        "    return \"\".join(result)\n",
        "message = \"India, a diverse and vibrant country, is known for its rich cultural heritage.\"\n",
        "depth = 6\n",
        "cipher_text = encrypt_rail_fence(message, depth)\n",
        "print(f\"Encrypted Message: {cipher_text}\")\n",
        "decrypted_text = decrypt_rail_fence(cipher_text, depth)\n",
        "print(f\"Decrypted Message: {decrypted_text}\")\n"
      ],
      "metadata": {
        "colab": {
          "base_uri": "https://localhost:8080/"
        },
        "id": "C-qNnuynZ-I4",
        "outputId": "fab73b48-50ad-4e02-b3de-dcda318952b9"
      },
      "execution_count": null,
      "outputs": [
        {
          "output_type": "stream",
          "name": "stdout",
          "text": [
            "Encrypted Message: Ii o  cendvdvcuskri uhrd eni ninothl iiarabtt ofsctlt.a s rnr,w  iuaae,eaynrrg\n",
            "Decrypted Message: India, a diverse and vibrant country, is known for its rich cultural heritage.\n"
          ]
        }
      ]
    },
    {
      "cell_type": "code",
      "source": [
        "def encrypt(text, key):\n",
        "    key = ''.join(sorted(key))\n",
        "    key_order = [key.index(ch) for ch in key]\n",
        "    matrix = [list(text[i:i+len(key)]) for i in range(0, len(text), len(key))]\n",
        "    if len(matrix[-1]) < len(key):\n",
        "        matrix[-1] += [' ' for _ in range(len(key) - len(matrix[-1]))]\n",
        "    encrypted_text = \"\"\n",
        "    for col in key_order:\n",
        "        for row in matrix:\n",
        "            encrypted_text += row[col]\n",
        "    return encrypted_text\n",
        "def decrypt(text, key):\n",
        "    key = ''.join(sorted(key))\n",
        "    key_order = [key.index(ch) for ch in key]\n",
        "    num_cols = len(key)\n",
        "    num_rows = -(-len(text) // num_cols)\n",
        "    matrix = [[' ' for i in range(num_cols)] for i in range(num_rows)]\n",
        "    index = 0\n",
        "    for col in key_order:\n",
        "        for row in range(num_rows):\n",
        "            matrix[row][col] = text[index]\n",
        "            index += 1\n",
        "            if index == len(text):\n",
        "                break\n",
        "    decrypted_text = \"\"\n",
        "    for row in matrix:\n",
        "        decrypted_text += ''.join(row)\n",
        "    return decrypted_text.rstrip()\n",
        "text = \"hello world\"\n",
        "key = \"2031\"\n",
        "encrypted = encrypt(text, key)\n",
        "print(\"Encrypted:\", encrypted)\n",
        "decrypted = decrypt(encrypted, key)\n",
        "print(\"Decrypted:\", decrypted)\n",
        "print(\"Is the Original text matching decrypted text?\")\n",
        "if(text==decrypted):\n",
        "  print(\"Yes! they are matching\")"
      ],
      "metadata": {
        "colab": {
          "base_uri": "https://localhost:8080/"
        },
        "id": "UmK3_2isGhm9",
        "outputId": "a7fce169-44e1-4621-dedb-2c79707df4bf"
      },
      "execution_count": null,
      "outputs": [
        {
          "output_type": "stream",
          "name": "stdout",
          "text": [
            "Encrypted: hore llwdlo \n",
            "Decrypted: hello world\n",
            "Is the Original text matching decrypted text?\n",
            "Yes! they are matching\n"
          ]
        }
      ]
    },
    {
      "cell_type": "code",
      "source": [
        "import math\n",
        "def create_numeric_key(key):\n",
        "    key = key.upper()\n",
        "    key_dict = {char: idx for idx, char in enumerate(sorted(key))}\n",
        "    numeric_key = [key_dict[char] for char in key]\n",
        "    return numeric_key\n",
        "def columnar_transposition_encrypt(msg, key):\n",
        "    key = create_numeric_key(key)\n",
        "    num_cols = len(key)\n",
        "    num_rows = math.ceil(len(msg) / num_cols)\n",
        "    padded_length = num_cols * num_rows\n",
        "    msg = msg.ljust(padded_length)\n",
        "    matrix = [''] * num_cols\n",
        "    for i, char in enumerate(msg):\n",
        "        col = key[i % len(key)]\n",
        "        matrix[col] += char\n",
        "    ciphertext = ''.join(matrix)\n",
        "    return ciphertext\n",
        "def columnar_transposition_decrypt(ciphertext, key):\n",
        "    key = create_numeric_key(key)\n",
        "    num_cols = len(key)\n",
        "    num_rows = len(ciphertext)\n",
        "    matrix = [''] * num_cols\n",
        "    k = 0\n",
        "    for col in range(num_cols):\n",
        "        col_index = key.index(col)\n",
        "        matrix[col_index] = ciphertext[k:k+num_rows]\n",
        "        k += num_rows\n",
        "    plaintext = ''\n",
        "    for row in range(num_rows):\n",
        "        for col in range(num_cols):\n",
        "            plaintext += matrix[col][row]\n",
        "    return plaintext.strip()\n",
        "key = \"EDUCATION\"\n",
        "msg = \"CUTTING TREES CUTS RAIN; PROTECT FORESTS TO PRESERVE OUR WATER\"\n",
        "encrypted_msg = columnar_transposition_encrypt(msg, key)\n",
        "decrypted_msg = columnar_transposition_decrypt(encrypted_msg, key)\n",
        "print(f\"Original message: {msg}\")\n",
        "print(f\"Encrypted message: {encrypted_msg}\")\n",
        "print(f\"Decrypted message: {decrypted_msg}\")\n"
      ],
      "metadata": {
        "colab": {
          "base_uri": "https://localhost:8080/"
        },
        "id": "JTeAguDSKa8z",
        "outputId": "af823a59-9772-40fb-a690-a019dc106da3"
      },
      "execution_count": null,
      "outputs": [
        {
          "output_type": "stream",
          "name": "stdout",
          "text": [
            "Original message: CUTTING TREES CUTS RAIN; PROTECT FORESTS TO PRESERVE OUR WATER\n",
            "Encrypted message: I NT RATSICSEWUERTSERCR OERUGU FOEETSRRPO  TPO  RNC; TVTTEAETS \n",
            "Decrypted message: CUTTING TREES CUTS RAIN; PROTECT FORESTS TO PRESERVE OUR WATER\n"
          ]
        }
      ]
    }
  ]
}