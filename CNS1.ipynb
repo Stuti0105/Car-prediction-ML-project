{
  "nbformat": 4,
  "nbformat_minor": 0,
  "metadata": {
    "colab": {
      "provenance": [],
      "authorship_tag": "ABX9TyN29w6af9quUZ2yc1Evrp4H",
      "include_colab_link": true
    },
    "kernelspec": {
      "name": "python3",
      "display_name": "Python 3"
    },
    "language_info": {
      "name": "python"
    }
  },
  "cells": [
    {
      "cell_type": "markdown",
      "metadata": {
        "id": "view-in-github",
        "colab_type": "text"
      },
      "source": [
        "<a href=\"https://colab.research.google.com/github/Stuti0105/Car-prediction-ML-project/blob/main/CNS1.ipynb\" target=\"_parent\"><img src=\"https://colab.research.google.com/assets/colab-badge.svg\" alt=\"Open In Colab\"/></a>"
      ]
    },
    {
      "cell_type": "code",
      "execution_count": null,
      "metadata": {
        "colab": {
          "base_uri": "https://localhost:8080/"
        },
        "id": "X6P3h5Y-QSCM",
        "outputId": "3e66b508-ed39-4631-8606-ca9515fe4ef0"
      },
      "outputs": [
        {
          "output_type": "stream",
          "name": "stdout",
          "text": [
            "Encrypted Message: YMJ MTZXJ NX STB KTW XFQJ\n",
            "Decrypted Message: THE HOUSE IS NOW FOR SALE\n"
          ]
        }
      ],
      "source": [
        "def encrypt_message(message, shift, alphabet):\n",
        "    encrypted_message = \"\"\n",
        "    for char in message:\n",
        "        if char in alphabet:  # Check if the character is an alphabet\n",
        "            position = alphabet.index(char)\n",
        "            encrypted = (position + shift) % 26\n",
        "            encrypted_message += alphabet[encrypted]\n",
        "        else:\n",
        "            encrypted_message += char  # Non-alphabet characters are not changed\n",
        "    return encrypted_message\n",
        "# Function to decrypt the message\n",
        "def decrypt_message(encrypted_message, shift, alphabet):\n",
        "    decrypted_message = \"\"\n",
        "    for char in encrypted_message:\n",
        "        if char in alphabet:  # Check if the character is an alphabet\n",
        "            position = alphabet.index(char)\n",
        "            decrypted = (position - shift) % 26\n",
        "            decrypted_message += alphabet[decrypted]\n",
        "        else:\n",
        "            decrypted_message += char  # Non-alphabet characters are not changed\n",
        "    return decrypted_message\n",
        "alphabet=['A', 'B','C','D','E','F','G','H','I','J','K','L','M','N','O','P','Q','R','S','T','U','V','W','X','Y','Z']\n",
        "message = \"THE HOUSE IS NOW FOR SALE\"\n",
        "shift = 5\n",
        "encrypted_message = encrypt_message(message, shift, alphabet)\n",
        "print(f\"Encrypted Message: {encrypted_message}\")  # Fixed print format\n",
        "# Decrypt the message with a shift of 5\n",
        "decrypted_message = decrypt_message(encrypted_message, shift, alphabet)\n",
        "print(f\"Decrypted Message: {decrypted_message}\")\n"
      ]
    },
    {
      "cell_type": "code",
      "source": [],
      "metadata": {
        "id": "095rtiqGKRFd"
      },
      "execution_count": null,
      "outputs": []
    }
  ]
}