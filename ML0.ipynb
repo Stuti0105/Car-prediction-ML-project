{
  "nbformat": 4,
  "nbformat_minor": 0,
  "metadata": {
    "colab": {
      "provenance": [],
      "authorship_tag": "ABX9TyMBteheby8iiMcFR9nt/Zqq",
      "include_colab_link": true
    },
    "kernelspec": {
      "name": "python3",
      "display_name": "Python 3"
    },
    "language_info": {
      "name": "python"
    }
  },
  "cells": [
    {
      "cell_type": "markdown",
      "metadata": {
        "id": "view-in-github",
        "colab_type": "text"
      },
      "source": [
        "<a href=\"https://colab.research.google.com/github/Stuti0105/Car-prediction-ML-project/blob/main/ML0.ipynb\" target=\"_parent\"><img src=\"https://colab.research.google.com/assets/colab-badge.svg\" alt=\"Open In Colab\"/></a>"
      ]
    },
    {
      "cell_type": "code",
      "execution_count": 1,
      "metadata": {
        "colab": {
          "base_uri": "https://localhost:8080/"
        },
        "id": "f8n6zimkWQhM",
        "outputId": "11e647a1-1673-4fee-df56-fa6c189db722"
      },
      "outputs": [
        {
          "output_type": "stream",
          "name": "stdout",
          "text": [
            "welcome to ML\n"
          ]
        }
      ],
      "source": [
        "print(\"welcome to ML\")"
      ]
    },
    {
      "cell_type": "code",
      "source": [
        "print(\"Hello... CSIT\\n\")\n",
        "print(\"All the best\")"
      ],
      "metadata": {
        "colab": {
          "base_uri": "https://localhost:8080/"
        },
        "id": "Wo9uG-pOW4fy",
        "outputId": "4f894f32-c249-4169-eba9-138064bc2f35"
      },
      "execution_count": 2,
      "outputs": [
        {
          "output_type": "stream",
          "name": "stdout",
          "text": [
            "Hello... CSIT\n",
            "\n",
            "All the best\n"
          ]
        }
      ]
    },
    {
      "cell_type": "code",
      "source": [
        "L1=[\"CSIT\", \" CGU\" , \"BBSR\" , \"ODISHA\"]\n",
        "L2=[100, 58.26, \"CGU\" , True]\n",
        "print(L1)\n",
        "print(L2)"
      ],
      "metadata": {
        "colab": {
          "base_uri": "https://localhost:8080/"
        },
        "id": "cbDnUcvoaBio",
        "outputId": "dc445ed6-9e6a-4def-e2ad-546f687bac94"
      },
      "execution_count": 4,
      "outputs": [
        {
          "output_type": "stream",
          "name": "stdout",
          "text": [
            "['CSIT', ' CGU', 'BBSR', 'ODISHA']\n",
            "[100, 58.26, 'CGU', True]\n"
          ]
        }
      ]
    },
    {
      "cell_type": "code",
      "source": [
        "country= [\"India\" , \"Bangladesh\" , \"Nepal\" , \"China\" , \"Pakistan\"]\n",
        "print(country)"
      ],
      "metadata": {
        "colab": {
          "base_uri": "https://localhost:8080/"
        },
        "id": "W5yJbbhrbWDw",
        "outputId": "a0a89f42-7a1f-4a3f-a664-e2729fa0babc"
      },
      "execution_count": 13,
      "outputs": [
        {
          "output_type": "stream",
          "name": "stdout",
          "text": [
            "['India', 'Bangladesh', 'Nepal', 'China', 'Pakistan']\n"
          ]
        }
      ]
    },
    {
      "cell_type": "code",
      "source": [
        "New_countries=[\"South korea\", \"Srilanka\" ]\n",
        "update= country + New_countries\n",
        "print(New_countries)\n",
        "print(update)"
      ],
      "metadata": {
        "colab": {
          "base_uri": "https://localhost:8080/"
        },
        "id": "IQ08fA9-dYRK",
        "outputId": "cc020d43-5313-46dd-dfe9-33fb943620cd"
      },
      "execution_count": 12,
      "outputs": [
        {
          "output_type": "stream",
          "name": "stdout",
          "text": [
            "['South korea', 'Srilanka']\n",
            "['India', ' Bangladesh', 'Nepal', 'China', 'Pakistan', 'South korea', 'Srilanka']\n"
          ]
        }
      ]
    },
    {
      "cell_type": "code",
      "source": [
        "print(update[2])"
      ],
      "metadata": {
        "colab": {
          "base_uri": "https://localhost:8080/"
        },
        "id": "FqeG4jt4dxA7",
        "outputId": "c99a85d3-2560-4150-95cd-10d1d3cc6b6f"
      },
      "execution_count": 8,
      "outputs": [
        {
          "output_type": "stream",
          "name": "stdout",
          "text": [
            "Nepal\n"
          ]
        }
      ]
    },
    {
      "cell_type": "code",
      "source": [
        "update.sort()\n",
        "print(update)"
      ],
      "metadata": {
        "colab": {
          "base_uri": "https://localhost:8080/"
        },
        "id": "9Bt76L0ydz26",
        "outputId": "12c27e15-6c57-4d69-edd9-dd724e77f2a5"
      },
      "execution_count": 14,
      "outputs": [
        {
          "output_type": "stream",
          "name": "stdout",
          "text": [
            "[' Bangladesh', 'China', 'India', 'Nepal', 'Pakistan', 'South korea', 'Srilanka']\n"
          ]
        }
      ]
    },
    {
      "cell_type": "code",
      "source": [
        "S=\"India\"\n",
        "if S in country:\n",
        "  print(\"India is present\")"
      ],
      "metadata": {
        "colab": {
          "base_uri": "https://localhost:8080/"
        },
        "id": "j5Ep1joid4kc",
        "outputId": "6b700aeb-e231-4333-cacd-92277bb18e78"
      },
      "execution_count": 10,
      "outputs": [
        {
          "output_type": "stream",
          "name": "stdout",
          "text": [
            "India is present\n"
          ]
        }
      ]
    },
    {
      "cell_type": "code",
      "source": [
        "T1=(\"CGU\" , \"ML\" , \"SUCHITRA\", \"Adyasha\")\n",
        "print(T1)\n",
        "print(type(T1))"
      ],
      "metadata": {
        "colab": {
          "base_uri": "https://localhost:8080/"
        },
        "id": "uqNTsW0veZLo",
        "outputId": "3a4d78d2-821b-4f11-d443-de706650cf9c"
      },
      "execution_count": 15,
      "outputs": [
        {
          "output_type": "stream",
          "name": "stdout",
          "text": [
            "('CGU', 'ML', 'SUCHITRA', 'Adyasha')\n",
            "<class 'tuple'>\n"
          ]
        }
      ]
    },
    {
      "cell_type": "code",
      "source": [
        "L5=[100,500,\"STUTI\"]\n",
        "T2=(1000, 5000, L5)\n",
        "print(L5)\n",
        "print(T2)"
      ],
      "metadata": {
        "colab": {
          "base_uri": "https://localhost:8080/"
        },
        "id": "OrCaEJcnhPDe",
        "outputId": "5d149be7-a1c9-47b1-a878-eee0e9831efe"
      },
      "execution_count": 16,
      "outputs": [
        {
          "output_type": "stream",
          "name": "stdout",
          "text": [
            "[100, 500, 'STUTI']\n",
            "(1000, 5000, [100, 500, 'STUTI'])\n"
          ]
        }
      ]
    },
    {
      "cell_type": "code",
      "source": [
        "IP=(100, 560, 450, 432, 900)\n",
        "print(IP)"
      ],
      "metadata": {
        "colab": {
          "base_uri": "https://localhost:8080/"
        },
        "id": "chDWo-aUhmup",
        "outputId": "94938a9d-fe63-42aa-9589-103ad95bc172"
      },
      "execution_count": 17,
      "outputs": [
        {
          "output_type": "stream",
          "name": "stdout",
          "text": [
            "(100, 560, 450, 432, 900)\n"
          ]
        }
      ]
    },
    {
      "cell_type": "code",
      "source": [
        "L= max(IP)\n",
        "print(\"maximum price=\",L)"
      ],
      "metadata": {
        "colab": {
          "base_uri": "https://localhost:8080/"
        },
        "id": "VyFBuA6biFp8",
        "outputId": "bc895f96-476d-439c-a2be-20e5b698d9cc"
      },
      "execution_count": 21,
      "outputs": [
        {
          "output_type": "stream",
          "name": "stdout",
          "text": [
            "maximum price= 900\n"
          ]
        }
      ]
    },
    {
      "cell_type": "code",
      "source": [
        "S= min(IP)\n",
        "print(\"minimum price=\" , S)"
      ],
      "metadata": {
        "colab": {
          "base_uri": "https://localhost:8080/"
        },
        "id": "Oe8dVJqRiOIk",
        "outputId": "4c800793-8fcd-4c0e-bbdf-65a6b8b82194"
      },
      "execution_count": 22,
      "outputs": [
        {
          "output_type": "stream",
          "name": "stdout",
          "text": [
            "minimum price= 100\n"
          ]
        }
      ]
    },
    {
      "cell_type": "code",
      "source": [
        "s= sum(IP)\n",
        "print(\"total price is:\" ,s)"
      ],
      "metadata": {
        "colab": {
          "base_uri": "https://localhost:8080/"
        },
        "id": "1vgdB9n8iU2e",
        "outputId": "952990cb-1d04-4bcd-e0bf-3fa8fe16a157"
      },
      "execution_count": 23,
      "outputs": [
        {
          "output_type": "stream",
          "name": "stdout",
          "text": [
            "total price is: 2442\n"
          ]
        }
      ]
    },
    {
      "cell_type": "code",
      "source": [
        "avg=s/len(IP)\n",
        "print(\"Average of the prices are: \" , avg)"
      ],
      "metadata": {
        "colab": {
          "base_uri": "https://localhost:8080/"
        },
        "id": "ojbwfcvwitgc",
        "outputId": "14866061-dbf6-43fd-ade1-480d28e149de"
      },
      "execution_count": 24,
      "outputs": [
        {
          "output_type": "stream",
          "name": "stdout",
          "text": [
            "Average of the prices are:  488.4\n"
          ]
        }
      ]
    },
    {
      "cell_type": "code",
      "source": [
        "print(\"Item Price Information\")\n",
        "print(IP)\n",
        "print(type(IP))\n",
        "item_list=list(IP)\n",
        "print(item_list)\n",
        "print(type(item_list))\n",
        "item_list.append(5000)\n",
        "print(item_list)\n",
        "print(type(item_list))\n"
      ],
      "metadata": {
        "colab": {
          "base_uri": "https://localhost:8080/"
        },
        "id": "MSfgf9-Mi9XQ",
        "outputId": "1d157666-5682-4d01-bd86-3bf86d007ec2"
      },
      "execution_count": 29,
      "outputs": [
        {
          "output_type": "stream",
          "name": "stdout",
          "text": [
            "Item Price Information\n",
            "(100, 560, 450, 432, 900)\n",
            "<class 'tuple'>\n",
            "[100, 560, 450, 432, 900]\n",
            "<class 'list'>\n",
            "[100, 560, 450, 432, 900, 5000]\n",
            "<class 'list'>\n"
          ]
        }
      ]
    },
    {
      "cell_type": "code",
      "source": [
        "Student={\"Name\":\"Harsh\",\"Subject\":\"ML\",\"Mark\": 56}\n",
        "print(Student)"
      ],
      "metadata": {
        "colab": {
          "base_uri": "https://localhost:8080/"
        },
        "id": "azK6C6Doki9C",
        "outputId": "c8d3e4f4-75ad-4c80-b19f-87d5c5b61085"
      },
      "execution_count": 33,
      "outputs": [
        {
          "output_type": "stream",
          "name": "stdout",
          "text": [
            "{'Name': 'Harsh', 'Subject': 'ML', 'Mark': 56}\n"
          ]
        }
      ]
    },
    {
      "cell_type": "code",
      "source": [],
      "metadata": {
        "id": "4mqFY4VAm3iP"
      },
      "execution_count": null,
      "outputs": []
    },
    {
      "cell_type": "code",
      "source": [
        "City_names={\"Jamshedpur\": 560, \"Ranchi\" : 654, \"Hazaribagh\": 768, \"cuttack\" :987, \"Godda\": 678}\n",
        "print(City_names)"
      ],
      "metadata": {
        "colab": {
          "base_uri": "https://localhost:8080/"
        },
        "id": "B7w0GJdEmGyV",
        "outputId": "164f8f00-0a1a-40c1-b1f1-bfbad972d682"
      },
      "execution_count": 34,
      "outputs": [
        {
          "output_type": "stream",
          "name": "stdout",
          "text": [
            "{'Jamshedpur': 560, 'Ranchi': 654, 'Hazaribagh': 768, 'cuttack': 987, 'Godda': 678}\n"
          ]
        }
      ]
    },
    {
      "cell_type": "code",
      "source": [
        "City_names.update({\"delhi\": 1000, \"Bangalore\": 5600})\n",
        "print(City_names)"
      ],
      "metadata": {
        "colab": {
          "base_uri": "https://localhost:8080/"
        },
        "id": "0PfRZ2W4nHdu",
        "outputId": "b552bc59-ed3f-4385-f64c-50c55463fc75"
      },
      "execution_count": 37,
      "outputs": [
        {
          "output_type": "stream",
          "name": "stdout",
          "text": [
            "{'Jamshedpur': 560, 'Ranchi': 654, 'Hazaribagh': 768, 'cuttack': 987, 'Godda': 678, 'delhi': 1000, 'Bangalore': 5600}\n"
          ]
        }
      ]
    },
    {
      "cell_type": "code",
      "source": [
        "R= \"Ranchi\"\n",
        "if R in City_names:\n",
        "  print(\"Ranchi is present\")"
      ],
      "metadata": {
        "colab": {
          "base_uri": "https://localhost:8080/"
        },
        "id": "TvClr_F3n-GS",
        "outputId": "390c78c4-609c-43dd-8c4c-d972dc3ca629"
      },
      "execution_count": 39,
      "outputs": [
        {
          "output_type": "stream",
          "name": "stdout",
          "text": [
            "Ranchi is present\n"
          ]
        }
      ]
    },
    {
      "cell_type": "code",
      "source": [
        "City_names.pop(\"Hazaribagh\")\n",
        "print(City_names)"
      ],
      "metadata": {
        "colab": {
          "base_uri": "https://localhost:8080/"
        },
        "id": "cU4ggfHFoUjZ",
        "outputId": "f962be13-aec9-42a6-d8f1-6199631a5a66"
      },
      "execution_count": 40,
      "outputs": [
        {
          "output_type": "stream",
          "name": "stdout",
          "text": [
            "{'Jamshedpur': 560, 'Ranchi': 654, 'cuttack': 987, 'Godda': 678, 'delhi': 1000, 'Bangalore': 5600}\n"
          ]
        }
      ]
    },
    {
      "cell_type": "code",
      "source": [],
      "metadata": {
        "colab": {
          "base_uri": "https://localhost:8080/",
          "height": 141
        },
        "id": "4bI9dM49pehC",
        "outputId": "c054154f-45f2-4921-9903-83b5ae172953"
      },
      "execution_count": 46,
      "outputs": [
        {
          "output_type": "error",
          "ename": "AttributeError",
          "evalue": "'dict' object has no attribute 'sort'",
          "traceback": [
            "\u001b[0;31m---------------------------------------------------------------------------\u001b[0m",
            "\u001b[0;31mAttributeError\u001b[0m                            Traceback (most recent call last)",
            "\u001b[0;32m<ipython-input-46-7bfa8cbe4460>\u001b[0m in \u001b[0;36m<cell line: 1>\u001b[0;34m()\u001b[0m\n\u001b[0;32m----> 1\u001b[0;31m \u001b[0mCity_names\u001b[0m\u001b[0;34m.\u001b[0m\u001b[0msort\u001b[0m\u001b[0;34m(\u001b[0m\u001b[0;34m)\u001b[0m\u001b[0;34m\u001b[0m\u001b[0;34m\u001b[0m\u001b[0m\n\u001b[0m",
            "\u001b[0;31mAttributeError\u001b[0m: 'dict' object has no attribute 'sort'"
          ]
        }
      ]
    }
  ]
}